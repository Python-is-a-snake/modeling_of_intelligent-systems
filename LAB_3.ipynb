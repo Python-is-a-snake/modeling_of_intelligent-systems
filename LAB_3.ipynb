{
 "cells": [
  {
   "cell_type": "markdown",
   "id": "84194d34-e04d-4a72-a2d1-ade7f88501aa",
   "metadata": {},
   "source": [
    "## Варіант 3\n",
    "### 1) Виведіть перші 8 рядків набору даних"
   ]
  },
  {
   "cell_type": "code",
   "execution_count": 2,
   "id": "a1734a49-c53b-411d-8ff2-daa18b126007",
   "metadata": {},
   "outputs": [
    {
     "name": "stdout",
     "output_type": "stream",
     "text": [
      "   Id       Name  Year Gender  Count\n",
      "0   1       Mary  1880      F   7065\n",
      "1   2       Anna  1880      F   2604\n",
      "2   3       Emma  1880      F   2003\n",
      "3   4  Elizabeth  1880      F   1939\n",
      "4   5     Minnie  1880      F   1746\n",
      "5   6   Margaret  1880      F   1578\n",
      "6   7        Ida  1880      F   1472\n",
      "7   8      Alice  1880      F   1414\n"
     ]
    }
   ],
   "source": [
    "import numpy as np\n",
    "import pandas as pd\n",
    "\n",
    "##first 8\n",
    "csv_file = 'NationalNames.csv'\n",
    "model = pd.read_csv(csv_file)\n",
    "# Виведення перших 8 рядків\n",
    "print(model.head(8))"
   ]
  },
  {
   "cell_type": "markdown",
   "id": "117f7c4b-4bec-4bfa-842c-c68afb388882",
   "metadata": {},
   "source": [
    "## 2) Вивести останні 8 рядків набору данних"
   ]
  },
  {
   "cell_type": "code",
   "execution_count": 3,
   "id": "a5393cde-389c-44eb-9c25-696ede8629c1",
   "metadata": {},
   "outputs": [
    {
     "name": "stdout",
     "output_type": "stream",
     "text": [
      "              Id     Name  Year Gender  Count\n",
      "1825425  1825426       Zo  2014      M      5\n",
      "1825426  1825427    Zyeir  2014      M      5\n",
      "1825427  1825428     Zyel  2014      M      5\n",
      "1825428  1825429   Zykeem  2014      M      5\n",
      "1825429  1825430   Zymeer  2014      M      5\n",
      "1825430  1825431  Zymiere  2014      M      5\n",
      "1825431  1825432    Zyran  2014      M      5\n",
      "1825432  1825433    Zyrin  2014      M      5\n"
     ]
    }
   ],
   "source": [
    "print(model.tail(8))"
   ]
  },
  {
   "cell_type": "markdown",
   "id": "57b4b465-499d-4661-90b9-a7caf994113c",
   "metadata": {},
   "source": [
    "## 4) Отримайте загальну інформацію про дані у наборі даних"
   ]
  },
  {
   "cell_type": "code",
   "execution_count": 5,
   "id": "d5169dc0-ecb6-4780-bb67-7f6de9f1beb3",
   "metadata": {},
   "outputs": [
    {
     "name": "stdout",
     "output_type": "stream",
     "text": [
      "<class 'pandas.core.frame.DataFrame'>\n",
      "RangeIndex: 1825433 entries, 0 to 1825432\n",
      "Data columns (total 5 columns):\n",
      " #   Column  Dtype \n",
      "---  ------  ----- \n",
      " 0   Id      int64 \n",
      " 1   Name    object\n",
      " 2   Year    int64 \n",
      " 3   Gender  object\n",
      " 4   Count   int64 \n",
      "dtypes: int64(3), object(2)\n",
      "memory usage: 69.6+ MB\n",
      "None\n"
     ]
    }
   ],
   "source": [
    "print(model.info())"
   ]
  },
  {
   "cell_type": "markdown",
   "id": "007f908f-3350-4d5e-9ad6-699377338553",
   "metadata": {},
   "source": [
    "## 5) Знайдіть кількість унікальних імен у наборі даних"
   ]
  },
  {
   "cell_type": "code",
   "execution_count": 6,
   "id": "e8390479-b571-4bd4-a24b-0cc7a5fdcc89",
   "metadata": {},
   "outputs": [
    {
     "name": "stdout",
     "output_type": "stream",
     "text": [
      "Кількість унікальних імен у наборі даних: 93889\n"
     ]
    }
   ],
   "source": [
    "# Знайдіть кількість унікальних імен\n",
    "unique_names_count = model['Name'].nunique()\n",
    "print(\"Кількість унікальних імен у наборі даних:\", unique_names_count)"
   ]
  },
  {
   "cell_type": "markdown",
   "id": "b2283e61-d181-44e3-b4c1-5d7a10282657",
   "metadata": {},
   "source": [
    "## 6) Обчисліть кількість унікальних жіночих та чоловічих імен у наборі даних"
   ]
  },
  {
   "cell_type": "code",
   "execution_count": 7,
   "id": "89e40d4b-0273-4fdf-96c9-f66a5a78316b",
   "metadata": {},
   "outputs": [
    {
     "name": "stdout",
     "output_type": "stream",
     "text": [
      "Кількість унікальних жіночих імен у наборі даних: 64911\n",
      "Кількість унікальних чоловічих імен у наборі даних: 39199\n"
     ]
    }
   ],
   "source": [
    "# Розділення даних на два піднабори за статтю\n",
    "female_names = model[model['Gender'] == 'F']\n",
    "male_names = model[model['Gender'] == 'M']\n",
    "\n",
    "# Знайдення кількості унікальних жіночих та чоловічих імен\n",
    "unique_female_names_count = female_names['Name'].nunique()\n",
    "unique_male_names_count = male_names['Name'].nunique()\n",
    "\n",
    "print(\"Кількість унікальних жіночих імен у наборі даних:\", unique_female_names_count)\n",
    "print(\"Кількість унікальних чоловічих імен у наборі даних:\", unique_male_names_count)"
   ]
  },
  {
   "cell_type": "markdown",
   "id": "5c1faa57-6149-4601-9812-a228c09e6324",
   "metadata": {},
   "source": [
    "## 7) Знайдіть 5 найпопулярніших чоловічих імен у 2010 році"
   ]
  },
  {
   "cell_type": "code",
   "execution_count": 9,
   "id": "3201a18f-2d64-4ccd-bd3a-6db947ab97b3",
   "metadata": {},
   "outputs": [
    {
     "data": {
      "text/html": [
       "<div>\n",
       "<style scoped>\n",
       "    .dataframe tbody tr th:only-of-type {\n",
       "        vertical-align: middle;\n",
       "    }\n",
       "\n",
       "    .dataframe tbody tr th {\n",
       "        vertical-align: top;\n",
       "    }\n",
       "\n",
       "    .dataframe thead th {\n",
       "        text-align: right;\n",
       "    }\n",
       "</style>\n",
       "<table border=\"1\" class=\"dataframe\">\n",
       "  <thead>\n",
       "    <tr style=\"text-align: right;\">\n",
       "      <th></th>\n",
       "      <th>Id</th>\n",
       "      <th>Name</th>\n",
       "      <th>Year</th>\n",
       "      <th>Gender</th>\n",
       "      <th>Count</th>\n",
       "    </tr>\n",
       "  </thead>\n",
       "  <tbody>\n",
       "    <tr>\n",
       "      <th>1677392</th>\n",
       "      <td>1677393</td>\n",
       "      <td>Jacob</td>\n",
       "      <td>2010</td>\n",
       "      <td>M</td>\n",
       "      <td>22082</td>\n",
       "    </tr>\n",
       "    <tr>\n",
       "      <th>1677393</th>\n",
       "      <td>1677394</td>\n",
       "      <td>Ethan</td>\n",
       "      <td>2010</td>\n",
       "      <td>M</td>\n",
       "      <td>17985</td>\n",
       "    </tr>\n",
       "    <tr>\n",
       "      <th>1677394</th>\n",
       "      <td>1677395</td>\n",
       "      <td>Michael</td>\n",
       "      <td>2010</td>\n",
       "      <td>M</td>\n",
       "      <td>17308</td>\n",
       "    </tr>\n",
       "    <tr>\n",
       "      <th>1677395</th>\n",
       "      <td>1677396</td>\n",
       "      <td>Jayden</td>\n",
       "      <td>2010</td>\n",
       "      <td>M</td>\n",
       "      <td>17152</td>\n",
       "    </tr>\n",
       "    <tr>\n",
       "      <th>1677396</th>\n",
       "      <td>1677397</td>\n",
       "      <td>William</td>\n",
       "      <td>2010</td>\n",
       "      <td>M</td>\n",
       "      <td>17030</td>\n",
       "    </tr>\n",
       "  </tbody>\n",
       "</table>\n",
       "</div>"
      ],
      "text/plain": [
       "              Id     Name  Year Gender  Count\n",
       "1677392  1677393    Jacob  2010      M  22082\n",
       "1677393  1677394    Ethan  2010      M  17985\n",
       "1677394  1677395  Michael  2010      M  17308\n",
       "1677395  1677396   Jayden  2010      M  17152\n",
       "1677396  1677397  William  2010      M  17030"
      ]
     },
     "execution_count": 9,
     "metadata": {},
     "output_type": "execute_result"
    }
   ],
   "source": [
    "men2010_mask = (model['Year'] == 2010) & (model['Gender'] == 'M')\n",
    "men_names = model[men2010_mask].sort_values(by='Count', ascending=False).head(5)\n",
    "men_names"
   ]
  },
  {
   "cell_type": "markdown",
   "id": "a6c3833d-fdab-4136-b6e6-3c49acb76024",
   "metadata": {},
   "source": [
    "## 8) Знайдіть найпопулярніше ім'я за результатами одного року (ім'я, для якого Count максимальне)"
   ]
  },
  {
   "cell_type": "code",
   "execution_count": 10,
   "id": "91a140c8-1d20-463e-a297-4dfb951193b9",
   "metadata": {},
   "outputs": [
    {
     "name": "stdout",
     "output_type": "stream",
     "text": [
      "Найпопулярніше ім'я за результатами одного року: Addie в 1880 році.\n"
     ]
    }
   ],
   "source": [
    "name_counts_by_year = model.groupby(['Year', 'Name']).size().reset_index(name='Count')\n",
    "most_popular_name = name_counts_by_year.loc[name_counts_by_year['Count'].idxmax()]\n",
    "print(\"Найпопулярніше ім'я за результатами одного року:\", most_popular_name['Name'], \"в\", most_popular_name['Year'], \"році.\")"
   ]
  },
  {
   "cell_type": "markdown",
   "id": "cca6a930-89bd-4d1b-a90a-dceaf7486054",
   "metadata": {},
   "source": [
    "## 9) Підрахуйте кількість записів, для яких Count мінімальне у наборі"
   ]
  },
  {
   "cell_type": "code",
   "execution_count": 11,
   "id": "aa2a72de-6bcb-44dc-86f1-d54473d21b17",
   "metadata": {},
   "outputs": [
    {
     "name": "stdout",
     "output_type": "stream",
     "text": [
      "Кількість записів, для яких Count є мінімальним у наборі даних: 254615\n"
     ]
    }
   ],
   "source": [
    "min_count = model['Count'].min()\n",
    "min_count_records_count = len(model[model['Count'] == min_count])\n",
    "\n",
    "print(\"Кількість записів, для яких Count є мінімальним у наборі даних:\", min_count_records_count)"
   ]
  },
  {
   "cell_type": "markdown",
   "id": "9aa87210-3310-4d0b-b33e-91d07e62112c",
   "metadata": {},
   "source": [
    "## 10) Підрахуйте кількість унікальних імен у кожному році"
   ]
  },
  {
   "cell_type": "code",
   "execution_count": 12,
   "id": "a3b0d6d7-4edd-4122-a007-af14c96e229c",
   "metadata": {},
   "outputs": [
    {
     "name": "stdout",
     "output_type": "stream",
     "text": [
      "Кількість унікальних імен у кожному році:\n",
      "Year\n",
      "1880     1889\n",
      "1881     1830\n",
      "1882     2012\n",
      "1883     1962\n",
      "1884     2158\n",
      "        ...  \n",
      "2010    31603\n",
      "2011    31418\n",
      "2012    31236\n",
      "2013    30774\n",
      "2014    30579\n",
      "Name: Name, Length: 135, dtype: int64\n"
     ]
    }
   ],
   "source": [
    "unique_names_by_year = model.groupby('Year')['Name'].nunique()\n",
    "\n",
    "print(\"Кількість унікальних імен у кожному році:\")\n",
    "print(unique_names_by_year)"
   ]
  },
  {
   "cell_type": "markdown",
   "id": "289ef62f-33d0-46fc-9b3b-1d480ea97ca5",
   "metadata": {},
   "source": [
    "## 11) Знайдіть рік із найбільшою кількістю унікальних імен"
   ]
  },
  {
   "cell_type": "code",
   "execution_count": 13,
   "id": "59a77cd4-87bd-4de6-9a75-89efbd33b356",
   "metadata": {},
   "outputs": [
    {
     "name": "stdout",
     "output_type": "stream",
     "text": [
      "Рік із найбільшою кількістю унікальних імен: 2008\n"
     ]
    }
   ],
   "source": [
    "year_with_max_unique_names = model.groupby('Year')['Name'].nunique().idxmax()\n",
    "\n",
    "print(\"Рік із найбільшою кількістю унікальних імен:\", year_with_max_unique_names)"
   ]
  },
  {
   "cell_type": "markdown",
   "id": "ff522a24-2750-499d-9f5f-b890316ff054",
   "metadata": {},
   "source": [
    "## 12) Знайдіть найпопулярніше ім'я в році з найбільшою кількістю унікальних імен (2008)"
   ]
  },
  {
   "cell_type": "code",
   "execution_count": 14,
   "id": "a3f5bd1e-8905-4a29-a9f3-297152a74a47",
   "metadata": {},
   "outputs": [
    {
     "name": "stdout",
     "output_type": "stream",
     "text": [
      "Найпопулярніше ім'я в 2008 році: Jacob\n"
     ]
    }
   ],
   "source": [
    "data_2008 = model[model['Year'] == 2008]\n",
    "\n",
    "most_popular_name_2008 = data_2008[data_2008['Count'] == data_2008['Count'].max()]['Name'].iloc[0]\n",
    "\n",
    "print(\"Найпопулярніше ім'я в 2008 році:\", most_popular_name_2008)"
   ]
  },
  {
   "cell_type": "markdown",
   "id": "21a5ac57-8bd2-43b5-914e-f59967d871fa",
   "metadata": {},
   "source": [
    "## 18) Підрахуйте кількість років, коли дівчаток народжувалося більше, ніж хлопчиків."
   ]
  },
  {
   "cell_type": "code",
   "execution_count": 15,
   "id": "cf7faeaf-5987-4f2d-9d27-3220535ddf04",
   "metadata": {},
   "outputs": [
    {
     "name": "stdout",
     "output_type": "stream",
     "text": [
      "Кількість років, коли дівчаток народжувалося більше, ніж хлопчиків: 132\n"
     ]
    }
   ],
   "source": [
    "gender_counts_by_year = model.groupby(['Year', 'Gender']).size().unstack(fill_value=0)\n",
    "\n",
    "years_with_more_girls = (gender_counts_by_year['F'] > gender_counts_by_year['M']).sum()\n",
    "\n",
    "print(\"Кількість років, коли дівчаток народжувалося більше, ніж хлопчиків:\", years_with_more_girls)"
   ]
  },
  {
   "cell_type": "markdown",
   "id": "d1068721-5cd3-4d42-a2f5-81a74b5cc685",
   "metadata": {},
   "source": [
    "## 19) Накресліть графік загальної кількості народжень хлопчиків та дівчаток на рік"
   ]
  },
  {
   "cell_type": "code",
   "execution_count": 17,
   "id": "1299b231-7dd7-4ed5-ab55-b90c76553fb1",
   "metadata": {},
   "outputs": [
    {
     "data": {
      "image/png": "[encoded data removed]",
      "text/plain": [
       "<Figure size 1000x600 with 1 Axes>"
      ]
     },
     "metadata": {},
     "output_type": "display_data"
    }
   ],
   "source": [
    "import matplotlib.pyplot as plt\n",
    "\n",
    "gender_counts_by_year = model.groupby(['Year', 'Gender']).size().unstack(fill_value=0)\n",
    "\n",
    "plt.figure(figsize=(10, 6))\n",
    "plt.plot(gender_counts_by_year.index, gender_counts_by_year['F'], label='Дівчата', color='red')\n",
    "plt.plot(gender_counts_by_year.index, gender_counts_by_year['M'], label='Хлопчики', color='blue')\n",
    "\n",
    "plt.title('Загальна кількість народжень за статтю на рік')\n",
    "plt.xlabel('Рік')\n",
    "plt.ylabel('Кількість народжень')\n",
    "plt.legend()\n",
    "plt.grid(True)\n",
    "plt.show()"
   ]
  },
  {
   "cell_type": "markdown",
   "id": "cc31fcad-3103-4f59-bf28-02e0bc21114e",
   "metadata": {},
   "source": [
    "## 20) Підрахуйте кількість гендерно-нейтральних імен (однакових для дівчат та хлопців)"
   ]
  },
  {
   "cell_type": "code",
   "execution_count": 18,
   "id": "495bf29c-9d5c-4332-9841-1093c745d681",
   "metadata": {},
   "outputs": [
    {
     "name": "stdout",
     "output_type": "stream",
     "text": [
      "Кількість гендерно-нейтральних імен: 10221\n"
     ]
    }
   ],
   "source": [
    "neutral_names = set(model[model['Gender'] == 'F']['Name']).intersection(set(model[model['Gender'] == 'M']['Name']))\n",
    "neutral_names_count = len(neutral_names)\n",
    "print(\"Кількість гендерно-нейтральних імен:\", neutral_names_count)"
   ]
  },
  {
   "cell_type": "markdown",
   "id": "0c5eee99-d8c3-46db-8c77-aaac11a8a152",
   "metadata": {},
   "source": [
    "## 21) Порахуйте, скільки разів хлопчиків називали Barbara"
   ]
  },
  {
   "cell_type": "code",
   "execution_count": 20,
   "id": "105d553e-fc53-49c4-a0f8-f024a502c46b",
   "metadata": {},
   "outputs": [
    {
     "data": {
      "text/plain": [
       "4139"
      ]
     },
     "execution_count": 20,
     "metadata": {},
     "output_type": "execute_result"
    }
   ],
   "source": [
    "barbara = model[(model['Gender'] == 'M') & (model['Name'] == 'Barbara')]\n",
    "barbara['Count'].sum()"
   ]
  },
  {
   "cell_type": "markdown",
   "id": "800fbe0c-e75c-4d73-b5b2-6b7c90c28b17",
   "metadata": {},
   "source": [
    "## 23) Знайти найпопулярніші гендерно-нейтральні імена (ті, що присутні кожного року)"
   ]
  },
  {
   "cell_type": "code",
   "execution_count": 21,
   "id": "3cf1a160-8d9d-407c-99ee-09b09e61b778",
   "metadata": {},
   "outputs": [
    {
     "name": "stdout",
     "output_type": "stream",
     "text": [
      "Найпопулярніші гендерно-нейтральні імена (ті, що присутні кожного року):\n",
      "['Aaron', 'Abbie', 'Abel', 'Abigail', 'Abraham', 'Ada', 'Adam', 'Addie', 'Addison', 'Adele', 'Adeline', 'Adrian', 'Agnes', 'Aimee', 'Al', 'Albert', 'Alberta', 'Alden', 'Alex', 'Alexander', 'Alfred', 'Alice', 'Aline', 'Allan', 'Allen', 'Allie', 'Alma', 'Alonzo', 'Alpha', 'Alta', 'Althea', 'Alton', 'Alva', 'Alvin', 'Alvina', 'Amanda', 'Amelia', 'America', 'Amie', 'Amos', 'Amy', 'Anastasia', 'Anderson', 'Andrew', 'Andy', 'Angela', 'Angelina', 'Angeline', 'Angie', 'Anita', 'Ann', 'Anna', 'Annabelle', 'Anne', 'Annette', 'Annie', 'Anthony', 'Antoinette', 'Anton', 'Antonia', 'Antonio', 'Ara', 'Archie', 'Arnold', 'Aron', 'Art', 'Arthur', 'Asa', 'Aubrey', 'August', 'Augusta', 'Augustine', 'Augustus', 'Austin', 'Ava', 'Avery', 'Bailey', 'Barbara', 'Basil', 'Beatrice', 'Bella', 'Ben', 'Benjamin', 'Bennett', 'Bennie', 'Bernard', 'Bernice', 'Bert', 'Bertha', 'Bess', 'Bessie', 'Betsy', 'Betty', 'Bill', 'Blanche', 'Bob', 'Bonnie', 'Boyd', 'Bridget', 'Bruce', 'Bryant', 'Burton', 'Buster', 'Byron', 'Caleb', 'Callie', 'Calvin', 'Camilla', 'Camille', 'Carey', 'Carl', 'Carlos', 'Carlton', 'Carolina', 'Caroline', 'Carolyn', 'Carrie', 'Carroll', 'Cary', 'Cassie', 'Catherine', 'Cecelia', 'Cecil', 'Cecile', 'Cecilia', 'Celia', 'Celina', 'Charity', 'Charles', 'Charley', 'Charlie', 'Charlotte', 'Chauncey', 'Chester', 'Chloe', 'Chris', 'Christ', 'Christian', 'Christina', 'Christine', 'Christopher', 'Clair', 'Claire', 'Clara', 'Clare', 'Clarence', 'Clarice', 'Clark', 'Claude', 'Claudia', 'Clay', 'Clayton', 'Clement', 'Cleo', 'Cleveland', 'Clifford', 'Clifton', 'Clint', 'Clinton', 'Clyde', 'Coleman', 'Connie', 'Conrad', 'Constance', 'Cora', 'Corinne', 'Cornelia', 'Cornelius', 'Corrie', 'Curtis', 'Cynthia', 'Cyrus', 'Daisy', 'Dallas', 'Dan', 'Dana', 'Daniel', 'Dave', 'David', 'Davis', 'Dean', 'Deborah', 'Delbert', 'Delia', 'Della', 'Delphine', 'Dena', 'Dennis', 'Dessie', 'Diana', 'Dixie', 'Dolly', 'Dolores', 'Don', 'Donald', 'Donna', 'Donnie', 'Dora', 'Doris', 'Dorothea', 'Dorothy', 'Douglas', 'Dudley', 'Dwight', 'Earl', 'Earnest', 'Eddie', 'Edgar', 'Edith', 'Edmond', 'Edmund', 'Edna', 'Edward', 'Edwin', 'Effie', 'Elbert', 'Elda', 'Eleanor', 'Eli', 'Elias', 'Elijah', 'Elisabeth', 'Elise', 'Elisha', 'Eliza', 'Elizabeth', 'Ella', 'Ellen', 'Ellie', 'Elliott', 'Ellis', 'Elma', 'Elmer', 'Elnora', 'Eloise', 'Elsa', 'Elsie', 'Elva', 'Elvin', 'Elvira', 'Elwood', 'Emanuel', 'Emerson', 'Emery', 'Emil', 'Emile', 'Emilie', 'Emily', 'Emma', 'Emmett', 'Emory', 'Eric', 'Erma', 'Ernest', 'Ervin', 'Erwin', 'Estella', 'Estelle', 'Esther', 'Ethel', 'Etta', 'Eugene', 'Eugenia', 'Eunice', 'Eva', 'Evan', 'Evelyn', 'Everett', 'Evie', 'Ezekiel', 'Ezra', 'Fannie', 'Fay', 'Faye', 'Felix', 'Fern', 'Fletcher', 'Flora', 'Florence', 'Floyd', 'Forest', 'Forrest', 'Foster', 'Frances', 'Francis', 'Francisco', 'Frank', 'Frankie', 'Franklin', 'Fred', 'Freda', 'Frederick', 'Fredrick', 'Freeman', 'Gabriel', 'Garland', 'Garrett', 'Gene', 'Geneva', 'Genevieve', 'George', 'Georgia', 'Georgie', 'Gerald', 'Geraldine', 'Gertrude', 'Gilbert', 'Gladys', 'Glen', 'Glenn', 'Glenna', 'Goldie', 'Gordon', 'Grace', 'Gracie', 'Grant', 'Grover', 'Gus', 'Guy', 'Hal', 'Hallie', 'Hanna', 'Hannah', 'Hans', 'Hardy', 'Harlan', 'Harley', 'Harmon', 'Harold', 'Harriet', 'Harris', 'Harrison', 'Harry', 'Harvey', 'Hattie', 'Hazel', 'Helen', 'Henrietta', 'Henry', 'Herbert', 'Herman', 'Hilda', 'Hollis', 'Homer', 'Hope', 'Horace', 'Hosea', 'Houston', 'Howard', 'Hubert', 'Hugh', 'Hugo', 'Ida', 'Ila', 'Ina', 'India', 'Inez', 'Iona', 'Ira', 'Irene', 'Iris', 'Irma', 'Irvin', 'Irving', 'Irwin', 'Isa', 'Isaac', 'Isabel', 'Isabell', 'Isabella', 'Isabelle', 'Isaiah', 'Isiah', 'Israel', 'Issac', 'Iva', 'Ivan', 'Ivy', 'Jack', 'Jackson', 'Jacob', 'Jake', 'James', 'Jane', 'Janet', 'Janie', 'Jannie', 'Jason', 'Jasper', 'Jay', 'Jean', 'Jeanette', 'Jeanne', 'Jeannette', 'Jeff', 'Jennie', 'Jenny', 'Jeremiah', 'Jerome', 'Jerry', 'Jess', 'Jesse', 'Jessica', 'Jessie', 'Jesus', 'Jewel', 'Jim', 'Jimmie', 'Joan', 'Joanna', 'Joe', 'Joel', 'Johanna', 'John', 'Johnie', 'Johnnie', 'Johnny', 'Johnson', 'Jonas', 'Jonathan', 'Jose', 'Joseph', 'Josephine', 'Joshua', 'Josiah', 'Josie', 'Juan', 'Juana', 'Juanita', 'Judith', 'Jules', 'Julia', 'Julian', 'Julie', 'Julius', 'June', 'Karl', 'Kate', 'Katharine', 'Katherine', 'Kathleen', 'Kathryn', 'Katie', 'Kelly', 'Kenneth', 'King', 'Lacy', 'Lafayette', 'Larry', 'Laura', 'Laurence', 'Lawrence', 'Lawson', 'Lea', 'Leah', 'Leanna', 'Lee', 'Leila', 'Lela', 'Leland', 'Lena', 'Lenard', 'Lenora', 'Lenore', 'Leo', 'Leon', 'Leona', 'Leonard', 'Leora', 'Leroy', 'Leslie', 'Lester', 'Levi', 'Levy', 'Lewis', 'Lila', 'Lillian', 'Lillie', 'Lilly', 'Lily', 'Lina', 'Linda', 'Lindsey', 'Liza', 'Lizzie', 'Lloyd', 'Logan', 'Lois', 'Lola', 'Lona', 'Lonnie', 'Lora', 'Loren', 'Lorena', 'Lorenzo', 'Loretta', 'Lottie', 'Lou', 'Louie', 'Louis', 'Louisa', 'Louise', 'Lovie', 'Lucia', 'Lucian', 'Lucien', 'Lucille', 'Lucinda', 'Lucy', 'Luella', 'Luis', 'Luke', 'Lula', 'Luther', 'Lydia', 'Lyle', 'Lynn', 'Mabel', 'Mable', 'Mack', 'Madeline', 'Mae', 'Magdalena', 'Maggie', 'Major', 'Malcolm', 'Mamie', 'Mandy', 'Manuel', 'Manuela', 'Marcella', 'Marcia', 'Marcus', 'Margaret', 'Margie', 'Marguerite', 'Maria', 'Mariah', 'Marian', 'Marie', 'Marion', 'Marjorie', 'Mark', 'Marshall', 'Martha', 'Martin', 'Marvin', 'Mary', 'Mason', 'Mathew', 'Matilda', 'Matt', 'Matthew', 'Mattie', 'Maude', 'Maurice', 'Max', 'May', 'Melinda', 'Melissa', 'Melvin', 'Merle', 'Merrill', 'Merritt', 'Michael', 'Micheal', 'Mike', 'Mildred', 'Miles', 'Miller', 'Millie', 'Milo', 'Milton', 'Mina', 'Minnie', 'Miriam', 'Mitchell', 'Mollie', 'Molly', 'Mona', 'Monroe', 'Morgan', 'Morris', 'Mose', 'Moses', 'Muriel', 'Murray', 'Myra', 'Myron', 'Nancy', 'Naomi', 'Napoleon', 'Natalie', 'Nathan', 'Nathaniel', 'Neal', 'Ned', 'Neil', 'Nell', 'Nellie', 'Nelson', 'Nettie', 'Neva', 'Nevada', 'Newton', 'Nicholas', 'Nick', 'Nina', 'Noah', 'Noble', 'Noel', 'Nola', 'Nora', 'Norah', 'Norma', 'Norman', 'Norris', 'Octavia', 'Odessa', 'Ola', 'Olga', 'Olin', 'Olive', 'Oliver', 'Olivia', 'Ollie', 'Omar', 'Omer', 'Ona', 'Opal', 'Ophelia', 'Ora', 'Oren', 'Orin', 'Orlando', 'Orville', 'Oscar', 'Otis', 'Otto', 'Owen', 'Parker', 'Patrick', 'Patsy', 'Paul', 'Paula', 'Paulina', 'Pauline', 'Pearl', 'Pedro', 'Percy', 'Perry', 'Pete', 'Peter', 'Phil', 'Philip', 'Phillip', 'Phoebe', 'Phyllis', 'Pierce', 'Polly', 'Porter', 'Preston', 'Price', 'Prince', 'Priscilla', 'Queen', 'Rachael', 'Rachel', 'Rae', 'Raleigh', 'Ralph', 'Ramon', 'Randolph', 'Ray', 'Raymond', 'Reba', 'Rebecca', 'Regina', 'Reginald', 'Rena', 'Reuben', 'Rex', 'Rhoda', 'Richard', 'Riley', 'Rita', 'Robert', 'Roberta', 'Rodney', 'Roger', 'Roland', 'Rolland', 'Rosa', 'Rosalie', 'Rosanna', 'Roscoe', 'Rose', 'Rosella', 'Rosetta', 'Rosie', 'Ross', 'Roxie', 'Roy', 'Royal', 'Ruben', 'Ruby', 'Rudolph', 'Rufus', 'Rupert', 'Russell', 'Ruth', 'Sadie', 'Sallie', 'Sally', 'Sam', 'Samantha', 'Samuel', 'Sandy', 'Sara', 'Sarah', 'Savannah', 'Scott', 'Selena', 'Selma', 'Sena', 'Serena', 'Seth', 'Shelby', 'Sherman', 'Shirley', 'Sidney', 'Silas', 'Simon', 'Smith', 'Sol', 'Solomon', 'Sophia', 'Sophie', 'Spencer', 'Stanley', 'Stella', 'Stephen', 'Sterling', 'Steve', 'Steven', 'Stewart', 'Stuart', 'Sue', 'Susan', 'Susie', 'Sydney', 'Sylvester', 'Sylvia', 'Taylor', 'Ted', 'Teresa', 'Tessie', 'Thad', 'Theo', 'Theodore', 'Theresa', 'Therese', 'Thomas', 'Thurman', 'Tim', 'Timothy', 'Tina', 'Tom', 'Tomas', 'Tommie', 'Tommy', 'Tony', 'Troy', 'Truman', 'Turner', 'Ulysses', 'Valentine', 'Van', 'Vance', 'Velma', 'Vera', 'Verna', 'Vernon', 'Veronica', 'Victor', 'Victoria', 'Vida', 'Vincent', 'Viola', 'Violet', 'Virgil', 'Virginia', 'Vivian', 'Wade', 'Walker', 'Wallace', 'Walter', 'Wanda', 'Ward', 'Warner', 'Warren', 'Wayne', 'Wesley', 'Wilber', 'Wilbert', 'Wilbur', 'Wiley', 'Wilfred', 'Wilhelmina', 'Will', 'Willa', 'Willard', 'William', 'Williams', 'Willie', 'Willis', 'Wilma', 'Wilmer', 'Wilson', 'Winifred', 'Winnie', 'Wyatt', 'Zoe']\n"
     ]
    }
   ],
   "source": [
    "neutral_names = set(model[model['Gender'] == 'F']['Name']).intersection(set(model[model['Gender'] == 'M']['Name']))\n",
    "neutral_names_by_year = model[model['Name'].isin(neutral_names)].groupby(['Year', 'Name']).size().reset_index(name='Count')\n",
    "\n",
    "popular_neutral_names = neutral_names_by_year.groupby('Name').size()\n",
    "popular_neutral_names = popular_neutral_names[popular_neutral_names == model['Year'].nunique()].index.tolist()\n",
    "\n",
    "print(\"Найпопулярніші гендерно-нейтральні імена (ті, що присутні кожного року):\")\n",
    "print(popular_neutral_names)\n"
   ]
  },
  {
   "cell_type": "markdown",
   "id": "64d4dd98-bce1-4532-b676-bcc7dcf65879",
   "metadata": {},
   "source": [
    "## 25) Побудувати графік розподілення кількості імен John та Mary по роках без залежності від статі"
   ]
  },
  {
   "cell_type": "code",
   "execution_count": 24,
   "id": "d51f5783-bce8-48e4-9e68-7a3db9521415",
   "metadata": {},
   "outputs": [
    {
     "data": {
      "image/png": "[encoded data removed]",
      "text/plain": [
       "<Figure size 640x480 with 1 Axes>"
      ]
     },
     "metadata": {},
     "output_type": "display_data"
    }
   ],
   "source": [
    "mary = model[model['Name'] == 'Mary']\n",
    "john = model[model['Name'] == 'John']\n",
    "\n",
    "mary_count = mary.groupby(['Year'])['Count'].sum()\n",
    "john_count = john.groupby(['Year'])['Count'].sum()\n",
    "\n",
    "plt.plot(john_count.index, john_count, label='John', color='blue')\n",
    "plt.plot(mary_count.index, mary_count, label='Mary', color='red')\n",
    "\n",
    "plt.xlabel('Year')\n",
    "plt.ylabel('')\n",
    "legend = plt.legend(loc='upper left', frameon=True)\n"
   ]
  },
  {
   "cell_type": "markdown",
   "id": "07995ead-b25d-4122-a311-2eff78e0b8e9",
   "metadata": {},
   "source": [
    "## 27) Знайти найпопулярніші імена в кожному році"
   ]
  },
  {
   "cell_type": "code",
   "execution_count": 25,
   "id": "e1c4b4e4-c59f-4efc-bf44-71b7fb68a32d",
   "metadata": {},
   "outputs": [
    {
     "name": "stdout",
     "output_type": "stream",
     "text": [
      "         Year      Name\n",
      "942      1880      John\n",
      "2938     1881      John\n",
      "4963     1882      John\n",
      "7116     1883      John\n",
      "9318     1884      John\n",
      "...       ...       ...\n",
      "1657592  2010  Isabella\n",
      "1691633  2011    Sophia\n",
      "1725502  2012    Sophia\n",
      "1759186  2013    Sophia\n",
      "1792389  2014      Emma\n",
      "\n",
      "[135 rows x 2 columns]\n"
     ]
    }
   ],
   "source": [
    "popular_names_by_year = model.loc[model.groupby('Year')['Count'].idxmax()][['Year', 'Name']]\n",
    "print(popular_names_by_year)"
   ]
  }
 ],
 "metadata": {
  "kernelspec": {
   "display_name": "Python 3 (ipykernel)",
   "language": "python",
   "name": "python3"
  },
  "language_info": {
   "codemirror_mode": {
    "name": "ipython",
    "version": 3
   },
   "file_extension": ".py",
   "mimetype": "text/x-python",
   "name": "python",
   "nbconvert_exporter": "python",
   "pygments_lexer": "ipython3",
   "version": "3.11.7"
  }
 },
 "nbformat": 4,
 "nbformat_minor": 5
}
