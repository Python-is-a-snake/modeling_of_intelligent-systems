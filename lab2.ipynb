{
 "cells": [
  {
   "cell_type": "code",
   "execution_count": 1,
   "id": "a149df86-3284-45df-936e-c7f4d24481a7",
   "metadata": {},
   "outputs": [],
   "source": [
    "import numpy as np"
   ]
  },
  {
   "cell_type": "markdown",
   "id": "78f28f8f-bad7-4a7a-b65d-9a164ec2b6b0",
   "metadata": {},
   "source": [
    " # Варіант №3"
   ]
  },
  {
   "cell_type": "markdown",
   "id": "0b606065-6efb-420d-ad5a-0e69f5162eda",
   "metadata": {},
   "source": [
    "## Завдання №1"
   ]
  },
  {
   "cell_type": "markdown",
   "id": "959ce152-bb69-42b7-9c2f-749f8d76813e",
   "metadata": {},
   "source": [
    "### Виконати набір вправ. Всі завдання виконати двома способами:\n",
    "* З використанням універсальних функцій бібліотеки NumPy\n",
    "* За допомогою ітеративних конструкцій (з використанням циклів, спискових включень тощо)\n",
    "* Для обох випадків підрахувати час виконання скрипту та зробити висновки"
   ]
  },
  {
   "cell_type": "markdown",
   "id": "787ce303-2ded-462f-8e78-7d781dcd3ff6",
   "metadata": {},
   "source": [
    "### 1) Вводиться число n. Вивести масив розміром n*n, в якому по діагоналі йдуть числа від 1 до n, а всі інші дорівнюють нулю"
   ]
  },
  {
   "cell_type": "code",
   "execution_count": 8,
   "id": "b5be6544-9e20-4007-b18f-3165f218dfa6",
   "metadata": {},
   "outputs": [
    {
     "name": "stdin",
     "output_type": "stream",
     "text": [
      "Введіть число n:  5\n"
     ]
    },
    {
     "name": "stdout",
     "output_type": "stream",
     "text": [
      "Результат за допомогою NumPy:\n",
      "[[1 0 0 0 0]\n",
      " [0 2 0 0 0]\n",
      " [0 0 3 0 0]\n",
      " [0 0 0 4 0]\n",
      " [0 0 0 0 5]]\n",
      "Час виконання (NumPy): 0.0 сек\n",
      "CPU times: total: 0 ns\n",
      "Wall time: 1.57 s\n"
     ]
    }
   ],
   "source": [
    "%%time\n",
    "import numpy as np\n",
    "import time\n",
    "\n",
    "def task_1(n):\n",
    "    start_time = time.time()\n",
    "    diagonal_matrix = np.diag(np.arange(1, n + 1))\n",
    "    end_time = time.time()\n",
    "    execution_time = end_time - start_time\n",
    "    return diagonal_matrix, execution_time\n",
    "\n",
    "n = int(input(\"Введіть число n: \"))\n",
    "result_numpy, time_numpy = create_diagonal_matrix_numpy(n)\n",
    "print(\"Результат за допомогою NumPy:\")\n",
    "print(result_numpy)"
   ]
  },
  {
   "cell_type": "code",
   "execution_count": 9,
   "id": "d8ddee7e-a038-4a2a-a934-6c64ebf5e1f6",
   "metadata": {},
   "outputs": [
    {
     "name": "stdin",
     "output_type": "stream",
     "text": [
      "Введіть число n:  5\n"
     ]
    },
    {
     "name": "stdout",
     "output_type": "stream",
     "text": [
      "Результат за допомогою ітеративних конструкцій:\n",
      "[1, 0, 0, 0, 0]\n",
      "[0, 2, 0, 0, 0]\n",
      "[0, 0, 3, 0, 0]\n",
      "[0, 0, 0, 4, 0]\n",
      "[0, 0, 0, 0, 5]\n",
      "CPU times: total: 15.6 ms\n",
      "Wall time: 1.38 s\n"
     ]
    }
   ],
   "source": [
    "%%time\n",
    "def task_1(n):\n",
    "    start_time = time.time()\n",
    "    diagonal_matrix = [[0] * n for _ in range(n)]\n",
    "    for i in range(n):\n",
    "        diagonal_matrix[i][i] = i + 1\n",
    "    end_time = time.time()\n",
    "    execution_time = end_time - start_time\n",
    "    return diagonal_matrix, execution_time\n",
    "\n",
    "n = int(input(\"Введіть число n: \"))\n",
    "result_iterative, time_iterative = create_diagonal_matrix_iterative(n)\n",
    "print(\"Результат за допомогою ітеративних конструкцій:\")\n",
    "for row in result_iterative:\n",
    "    print(row)"
   ]
  },
  {
   "cell_type": "markdown",
   "id": "1aa77f65-491b-4ec1-955b-0ca10aefe9c6",
   "metadata": {},
   "source": [
    "### 3) Вводяться чотири числа n, m, r, c. Вивести масив розміру n*m, в якому в кожному рядку з номером r і в кожному стовпчику з номером c стоять 0, а інші елементи дорівнюють 1."
   ]
  },
  {
   "cell_type": "code",
   "execution_count": 11,
   "id": "068282bc-2895-4e6e-a1bc-cbfc6b73af18",
   "metadata": {},
   "outputs": [
    {
     "name": "stdin",
     "output_type": "stream",
     "text": [
      "Введіть число n:  4\n",
      "Введіть число m:  4\n",
      "Введіть номер рядка r:  2\n",
      "Введіть номер стовпчика c:  2\n"
     ]
    },
    {
     "name": "stdout",
     "output_type": "stream",
     "text": [
      "Результат за допомогою NumPy:\n",
      "[[1 1 0 1]\n",
      " [1 1 0 1]\n",
      " [0 0 0 0]\n",
      " [1 1 0 1]]\n",
      "CPU times: total: 15.6 ms\n",
      "Wall time: 2.72 s\n"
     ]
    }
   ],
   "source": [
    "%%time\n",
    "\n",
    "import numpy as np\n",
    "import time\n",
    "\n",
    "def task_3(n, m, r, c):\n",
    "    start_time = time.time()\n",
    "    custom_array = np.ones((n, m), dtype=int)\n",
    "    custom_array[r, :] = 0\n",
    "    custom_array[:, c] = 0\n",
    "    end_time = time.time()\n",
    "    execution_time = end_time - start_time\n",
    "    return custom_array, execution_time\n",
    "\n",
    "n = int(input(\"Введіть число n: \"))\n",
    "m = int(input(\"Введіть число m: \"))\n",
    "r = int(input(\"Введіть номер рядка r: \"))\n",
    "c = int(input(\"Введіть номер стовпчика c: \"))\n",
    "\n",
    "result_numpy, time_numpy = task_3(n, m, r, c)\n",
    "print(\"Результат за допомогою NumPy:\")\n",
    "print(result_numpy)"
   ]
  },
  {
   "cell_type": "code",
   "execution_count": 14,
   "id": "3f5f0659-4152-4862-a5aa-8575c1cd4a4e",
   "metadata": {},
   "outputs": [
    {
     "name": "stdin",
     "output_type": "stream",
     "text": [
      "Введіть число n:  4\n",
      "Введіть число m:  4\n",
      "Введіть номер рядка r:  2\n",
      "Введіть номер стовпчика c:  2\n"
     ]
    },
    {
     "name": "stdout",
     "output_type": "stream",
     "text": [
      "Результат за допомогою ітеративних конструкцій:\n",
      "[1, 1, 0, 1]\n",
      "[1, 1, 0, 1]\n",
      "[0, 0, 0, 0]\n",
      "[1, 1, 0, 1]\n",
      "CPU times: total: 15.6 ms\n",
      "Wall time: 2.97 s\n"
     ]
    }
   ],
   "source": [
    "%%time\n",
    "\n",
    "def task_3(n, m, r, c):\n",
    "    start_time = time.time()\n",
    "    custom_array = [[1] * m for _ in range(n)]\n",
    "    for i in range(n):\n",
    "        custom_array[i][c] = 0\n",
    "    for j in range(m):\n",
    "        custom_array[r][j] = 0\n",
    "    end_time = time.time()\n",
    "    execution_time = end_time - start_time\n",
    "    return custom_array, execution_time\n",
    "\n",
    "n = int(input(\"Введіть число n: \"))\n",
    "m = int(input(\"Введіть число m: \"))\n",
    "r = int(input(\"Введіть номер рядка r: \"))\n",
    "c = int(input(\"Введіть номер стовпчика c: \"))\n",
    "\n",
    "result_iterative, time_iterative = task_3(n, m, r, c)\n",
    "print(\"Результат за допомогою ітеративних конструкцій:\")\n",
    "for row in result_iterative:\n",
    "    print(row)"
   ]
  },
  {
   "cell_type": "markdown",
   "id": "ac533f09-4412-4d1c-b6d4-2c9bd5b096a3",
   "metadata": {},
   "source": [
    "### 6) З клавіатури вводиться масив. Замінити всі ненульові елементи на -1."
   ]
  },
  {
   "cell_type": "code",
   "execution_count": 15,
   "id": "9ed8b404-cd1b-4c3e-bb97-6167096d599d",
   "metadata": {},
   "outputs": [
    {
     "name": "stdin",
     "output_type": "stream",
     "text": [
      "Введіть масив чисел, розділених пробілами:  -5 -3 1 -3 0 0 1 3 -2\n"
     ]
    },
    {
     "name": "stdout",
     "output_type": "stream",
     "text": [
      "Результат за допомогою NumPy:\n",
      "[-1 -1 -1 -1  0  0 -1 -1 -1]\n",
      "CPU times: total: 0 ns\n",
      "Wall time: 11.2 s\n"
     ]
    }
   ],
   "source": [
    "%%time\n",
    "\n",
    "import numpy as np\n",
    "import time\n",
    "\n",
    "def task_6(input_array):\n",
    "    start_time = time.time()\n",
    "    modified_array = np.where(input_array != 0, -1, input_array)\n",
    "    end_time = time.time()\n",
    "    execution_time = end_time - start_time\n",
    "    return modified_array, execution_time\n",
    "\n",
    "# Введення масиву з клавіатури\n",
    "input_array = np.array(input(\"Введіть масив чисел, розділених пробілами: \").split(), dtype=int)\n",
    "\n",
    "result_numpy, time_numpy = task_6(input_array)\n",
    "print(\"Результат за допомогою NumPy:\")\n",
    "print(result_numpy)"
   ]
  },
  {
   "cell_type": "code",
   "execution_count": 16,
   "id": "48de672a-b61e-414a-a251-f06d91c29281",
   "metadata": {},
   "outputs": [
    {
     "name": "stdin",
     "output_type": "stream",
     "text": [
      "Введіть масив чисел, розділених пробілами:  -5 -3 1 -3 0 0 1 3 -2\n"
     ]
    },
    {
     "name": "stdout",
     "output_type": "stream",
     "text": [
      "Результат за допомогою ітеративних конструкцій:\n",
      "[-1, -1, -1, -1, 0, 0, -1, -1, -1]\n",
      "CPU times: total: 0 ns\n",
      "Wall time: 12.9 s\n"
     ]
    }
   ],
   "source": [
    "%%time\n",
    "\n",
    "def task_6(input_array):\n",
    "    start_time = time.time()\n",
    "    modified_array = [-1 if x != 0 else 0 for x in input_array]\n",
    "    end_time = time.time()\n",
    "    execution_time = end_time - start_time\n",
    "    return modified_array, execution_time\n",
    "\n",
    "# Введення масиву з клавіатури\n",
    "input_array = list(map(int, input(\"Введіть масив чисел, розділених пробілами: \").split()))\n",
    "\n",
    "result_iterative, time_iterative = task_6(input_array)\n",
    "print(\"Результат за допомогою ітеративних конструкцій:\")\n",
    "print(result_iterative)"
   ]
  },
  {
   "cell_type": "markdown",
   "id": "5f2e4c03-9d04-4909-9e16-7ab3fcb29bd5",
   "metadata": {},
   "source": [
    "### 7) З клавіатури вводиться масив. Замінити всі нульові елементи на -1."
   ]
  },
  {
   "cell_type": "code",
   "execution_count": 2,
   "id": "8878a974-f4b4-48b4-867c-843592a1f208",
   "metadata": {},
   "outputs": [
    {
     "name": "stdin",
     "output_type": "stream",
     "text": [
      "Введіть масив чисел, розділених пробілами:  -5 0 0 1 0 2\n"
     ]
    },
    {
     "name": "stdout",
     "output_type": "stream",
     "text": [
      "Результат за допомогою NumPy:\n",
      "[-5 -1 -1  1 -1  2]\n",
      "CPU times: total: 0 ns\n",
      "Wall time: 7.45 s\n"
     ]
    }
   ],
   "source": [
    "%%time\n",
    "\n",
    "import numpy as np\n",
    "import time\n",
    "\n",
    "def task_7(input_array):\n",
    "    start_time = time.time()\n",
    "    modified_array = np.where(input_array == 0, -1, input_array)\n",
    "    end_time = time.time()\n",
    "    execution_time = end_time - start_time\n",
    "    return modified_array, execution_time\n",
    "\n",
    "# Введення масиву з клавіатури\n",
    "input_array = np.array(input(\"Введіть масив чисел, розділених пробілами: \").split(), dtype=int)\n",
    "\n",
    "result_numpy, time_numpy = task_7(input_array)\n",
    "print(\"Результат за допомогою NumPy:\")\n",
    "print(result_numpy)"
   ]
  },
  {
   "cell_type": "code",
   "execution_count": 3,
   "id": "c84cda67-1c02-4780-b6b9-2ba96dd71fb6",
   "metadata": {},
   "outputs": [
    {
     "name": "stdin",
     "output_type": "stream",
     "text": [
      "Введіть масив чисел, розділених пробілами:  -5 0 0 1 0 2\n"
     ]
    },
    {
     "name": "stdout",
     "output_type": "stream",
     "text": [
      "Результат за допомогою ітеративних конструкцій:\n",
      "[-5, -1, -1, 1, -1, 2]\n",
      "CPU times: total: 0 ns\n",
      "Wall time: 6.11 s\n"
     ]
    }
   ],
   "source": [
    "%%time\n",
    "\n",
    "def task_7(input_array):\n",
    "    start_time = time.time()\n",
    "    modified_array = [-1 if x == 0 else x for x in input_array]\n",
    "    end_time = time.time()\n",
    "    execution_time = end_time - start_time\n",
    "    return modified_array, execution_time\n",
    "\n",
    "# Введення масиву з клавіатури\n",
    "input_array = list(map(int, input(\"Введіть масив чисел, розділених пробілами: \").split()))\n",
    "\n",
    "result_iterative, time_iterative = task_7(input_array)\n",
    "print(\"Результат за допомогою ітеративних конструкцій:\")\n",
    "print(result_iterative)"
   ]
  },
  {
   "cell_type": "markdown",
   "id": "83850534-e099-434b-ab96-e2303daed399",
   "metadata": {},
   "source": [
    "### 7) З клавіатури вводиться масив. Підрахувати в ньому кількість нульових та ненульових елементів."
   ]
  },
  {
   "cell_type": "code",
   "execution_count": 5,
   "id": "a894e3f7-0443-47c4-83d2-9177db310c00",
   "metadata": {},
   "outputs": [
    {
     "name": "stdin",
     "output_type": "stream",
     "text": [
      "Введіть масив чисел, розділених пробілами:  0 1 0 1 4 -3 -2 -10\n"
     ]
    },
    {
     "name": "stdout",
     "output_type": "stream",
     "text": [
      "Кількість нульових елементів (NumPy): 2\n",
      "Кількість ненульових елементів (NumPy): 6\n",
      "CPU times: total: 0 ns\n",
      "Wall time: 12.4 s\n"
     ]
    }
   ],
   "source": [
    "%%time\n",
    "\n",
    "import numpy as np\n",
    "import time\n",
    "\n",
    "def task_8_numpy(input_array):\n",
    "    start_time = time.time()\n",
    "    count_zeros = np.count_nonzero(input_array == 0)\n",
    "    count_non_zeros = np.count_nonzero(input_array != 0)\n",
    "    end_time = time.time()\n",
    "    execution_time = end_time - start_time\n",
    "    return count_zeros, count_non_zeros, execution_time\n",
    "\n",
    "# Введення масиву з клавіатури\n",
    "input_array = np.array(input(\"Введіть масив чисел, розділених пробілами: \").split(), dtype=int)\n",
    "\n",
    "zeros_numpy, non_zeros_numpy, time_numpy = task_8_numpy(input_array)\n",
    "print(\"Кількість нульових елементів (NumPy):\", zeros_numpy)\n",
    "print(\"Кількість ненульових елементів (NumPy):\", non_zeros_numpy)"
   ]
  },
  {
   "cell_type": "code",
   "execution_count": 6,
   "id": "b364ae4c-ebc4-4b95-a1bf-28593f7d6d59",
   "metadata": {},
   "outputs": [
    {
     "name": "stdin",
     "output_type": "stream",
     "text": [
      "Введіть масив чисел, розділених пробілами:  -10 3 4 -10 -2 3 4\n"
     ]
    },
    {
     "name": "stdout",
     "output_type": "stream",
     "text": [
      "Кількість нульових елементів (ітеративно): 0\n",
      "Кількість ненульових елементів (ітеративно): 7\n",
      "CPU times: total: 0 ns\n",
      "Wall time: 8.48 s\n"
     ]
    }
   ],
   "source": [
    "%%time\n",
    "\n",
    "def task_8_iterative(input_array):\n",
    "    start_time = time.time()\n",
    "    count_zeros = sum(1 for x in input_array if x == 0)\n",
    "    count_non_zeros = sum(1 for x in input_array if x != 0)\n",
    "    end_time = time.time()\n",
    "    execution_time = end_time - start_time\n",
    "    return count_zeros, count_non_zeros, execution_time\n",
    "\n",
    "# Введення масиву з клавіатури\n",
    "input_array = list(map(int, input(\"Введіть масив чисел, розділених пробілами: \").split()))\n",
    "\n",
    "zeros_iterative, non_zeros_iterative, time_iterative = task_8_iterative(input_array)\n",
    "print(\"Кількість нульових елементів (ітеративно):\", zeros_iterative)\n",
    "print(\"Кількість ненульових елементів (ітеративно):\", non_zeros_iterative)"
   ]
  },
  {
   "cell_type": "markdown",
   "id": "749c6371-e387-4724-9457-ae669767eb02",
   "metadata": {},
   "source": [
    "### 11) Cтворити масив з одиниць розміром n*n та додати до нього рамку, що утворюється з 0."
   ]
  },
  {
   "cell_type": "code",
   "execution_count": 9,
   "id": "553fb94a-fc2b-437e-b7d4-0b9d69b7c6ed",
   "metadata": {},
   "outputs": [
    {
     "name": "stdin",
     "output_type": "stream",
     "text": [
      "Введіть розмір масиву n:  5\n"
     ]
    },
    {
     "name": "stdout",
     "output_type": "stream",
     "text": [
      "Результат за допомогою NumPy:\n",
      "[[0 0 0 0 0]\n",
      " [0 1 1 1 0]\n",
      " [0 1 1 1 0]\n",
      " [0 1 1 1 0]\n",
      " [0 0 0 0 0]]\n",
      "CPU times: total: 0 ns\n",
      "Wall time: 2.21 s\n"
     ]
    }
   ],
   "source": [
    "%%time\n",
    "\n",
    "import numpy as np\n",
    "import time\n",
    "\n",
    "def task_11_numpy(n):\n",
    "    start_time = time.time()\n",
    "    ones_array = np.ones((n, n), dtype=int)\n",
    "    ones_array[0,:] = 0\n",
    "    ones_array[-1,:] = 0\n",
    "    ones_array[:,0] = 0\n",
    "    ones_array[:,-1] = 0\n",
    "    end_time = time.time()\n",
    "    execution_time = end_time - start_time\n",
    "    return ones_array, execution_time\n",
    "\n",
    "# Введення розміру масиву з клавіатури\n",
    "n = int(input(\"Введіть розмір масиву n: \"))\n",
    "\n",
    "result_numpy, time_numpy = task_11_numpy(n)\n",
    "print(\"Результат за допомогою NumPy:\")\n",
    "print(result_numpy)"
   ]
  },
  {
   "cell_type": "code",
   "execution_count": 10,
   "id": "486d5061-f798-47eb-9717-e355d2d8826c",
   "metadata": {},
   "outputs": [
    {
     "name": "stdin",
     "output_type": "stream",
     "text": [
      "Введіть розмір масиву n:  5\n"
     ]
    },
    {
     "name": "stdout",
     "output_type": "stream",
     "text": [
      "Результат за допомогою ітеративних конструкцій:\n",
      "[0, 0, 0, 0, 0]\n",
      "[0, 1, 1, 1, 0]\n",
      "[0, 1, 1, 1, 0]\n",
      "[0, 1, 1, 1, 0]\n",
      "[0, 0, 0, 0, 0]\n",
      "Час виконання (ітеративно): 0.0 сек\n",
      "CPU times: total: 0 ns\n",
      "Wall time: 1.33 s\n"
     ]
    }
   ],
   "source": [
    "%%time \n",
    "\n",
    "def task_11_iterative(n):\n",
    "    start_time = time.time()\n",
    "    ones_array = [[1] * n for _ in range(n)]\n",
    "    for i in range(n):\n",
    "        for j in range(n):\n",
    "            if i == 0 or i == n - 1 or j == 0 or j == n - 1:\n",
    "                ones_array[i][j] = 0\n",
    "    end_time = time.time()\n",
    "    execution_time = end_time - start_time\n",
    "    return ones_array, execution_time\n",
    "\n",
    "# Введення розміру масиву з клавіатури\n",
    "n = int(input(\"Введіть розмір масиву n: \"))\n",
    "\n",
    "result_iterative, time_iterative = task_11_iterative(n)\n",
    "print(\"Результат за допомогою ітеративних конструкцій:\")\n",
    "for row in result_iterative:\n",
    "    print(row)\n",
    "print(\"Час виконання (ітеративно):\", time_iterative, \"сек\")"
   ]
  },
  {
   "cell_type": "markdown",
   "id": "d32bea23-462e-4acc-a09a-cc185082185f",
   "metadata": {},
   "source": [
    "### 16) Заповнити вектор значеннями від 0 до n. Всі значення, що більші за n/4 та менші за 3n/4 замінити нулями. "
   ]
  },
  {
   "cell_type": "code",
   "execution_count": 11,
   "id": "9f0ba9a4-3970-4663-85fa-26d35f031aea",
   "metadata": {},
   "outputs": [
    {
     "name": "stdin",
     "output_type": "stream",
     "text": [
      "Введіть значення n:  5\n"
     ]
    },
    {
     "name": "stdout",
     "output_type": "stream",
     "text": [
      "Результат за допомогою NumPy:\n",
      "[0 1 0 0 4]\n",
      "Час виконання (NumPy): 0.0010309219360351562 сек\n",
      "CPU times: total: 15.6 ms\n",
      "Wall time: 2.67 s\n"
     ]
    }
   ],
   "source": [
    "%%time\n",
    "\n",
    "import numpy as np\n",
    "import time\n",
    "\n",
    "def task_16_numpy(n):\n",
    "    start_time = time.time()\n",
    "    vector = np.arange(n)\n",
    "    vector[(vector > n/4) & (vector < 3*n/4)] = 0\n",
    "    end_time = time.time()\n",
    "    execution_time = end_time - start_time\n",
    "    return vector, execution_time\n",
    "\n",
    "# Введення значення n з клавіатури\n",
    "n = int(input(\"Введіть значення n: \"))\n",
    "\n",
    "result_numpy, time_numpy = task_16_numpy(n)\n",
    "print(\"Результат за допомогою NumPy:\")\n",
    "print(result_numpy)\n",
    "print(\"Час виконання (NumPy):\", time_numpy, \"сек\")"
   ]
  },
  {
   "cell_type": "code",
   "execution_count": 12,
   "id": "bbf307fd-50a9-47b6-adca-ff6f675abb48",
   "metadata": {},
   "outputs": [
    {
     "name": "stdin",
     "output_type": "stream",
     "text": [
      "Введіть значення n:  5\n"
     ]
    },
    {
     "name": "stdout",
     "output_type": "stream",
     "text": [
      "Результат за допомогою ітеративних конструкцій:\n",
      "[0, 1, 0, 0, 4]\n",
      "Час виконання (ітеративно): 0.0 сек\n",
      "CPU times: total: 0 ns\n",
      "Wall time: 2.02 s\n"
     ]
    }
   ],
   "source": [
    "%%time\n",
    "\n",
    "def task_16_iterative(n):\n",
    "    start_time = time.time()\n",
    "    vector = [i if i <= n/4 or i >= 3*n/4 else 0 for i in range(n)]\n",
    "    end_time = time.time()\n",
    "    execution_time = end_time - start_time\n",
    "    return vector, execution_time\n",
    "\n",
    "# Введення значення n з клавіатури\n",
    "n = int(input(\"Введіть значення n: \"))\n",
    "\n",
    "result_iterative, time_iterative = task_16_iterative(n)\n",
    "print(\"Результат за допомогою ітеративних конструкцій:\")\n",
    "print(result_iterative)\n",
    "print(\"Час виконання (ітеративно):\", time_iterative, \"сек\")"
   ]
  },
  {
   "cell_type": "markdown",
   "id": "b24b1e3f-6a90-456a-a7a8-be0cac846ea7",
   "metadata": {},
   "source": [
    "### 18) Згенерувати вектор з n випадкових чисел від 0 до 99. Визначити кількість унікальних чисел в послідовності."
   ]
  },
  {
   "cell_type": "code",
   "execution_count": 13,
   "id": "f9fcaf20-9d88-49c9-bb17-a9d8a9cd484c",
   "metadata": {},
   "outputs": [
    {
     "name": "stdin",
     "output_type": "stream",
     "text": [
      "Введіть значення n:  5\n"
     ]
    },
    {
     "name": "stdout",
     "output_type": "stream",
     "text": [
      "Кількість унікальних чисел за допомогою NumPy: 5\n",
      "CPU times: total: 0 ns\n",
      "Wall time: 2.25 s\n"
     ]
    }
   ],
   "source": [
    "%%time\n",
    "\n",
    "import numpy as np\n",
    "import time\n",
    "\n",
    "def task_18_numpy(n):\n",
    "    start_time = time.time()\n",
    "    vector = np.random.randint(0, 100, size=n)\n",
    "    unique_count = len(np.unique(vector))\n",
    "    end_time = time.time()\n",
    "    execution_time = end_time - start_time\n",
    "    return unique_count, execution_time\n",
    "\n",
    "# Введення значення n з клавіатури\n",
    "n = int(input(\"Введіть значення n: \"))\n",
    "\n",
    "result_numpy, time_numpy = task_18_numpy(n)\n",
    "print(\"Кількість унікальних чисел за допомогою NumPy:\", result_numpy)"
   ]
  },
  {
   "cell_type": "code",
   "execution_count": 14,
   "id": "9c94711a-111f-4eb0-b280-467fd9ddf96c",
   "metadata": {},
   "outputs": [
    {
     "name": "stdin",
     "output_type": "stream",
     "text": [
      "Введіть значення n:  5\n"
     ]
    },
    {
     "name": "stdout",
     "output_type": "stream",
     "text": [
      "Кількість унікальних чисел за допомогою ітеративних конструкцій: 5\n",
      "CPU times: total: 15.6 ms\n",
      "Wall time: 2.27 s\n"
     ]
    }
   ],
   "source": [
    "%%time\n",
    "\n",
    "def task_18_iterative(n):\n",
    "    start_time = time.time()\n",
    "    vector = [np.random.randint(0, 100) for _ in range(n)]\n",
    "    unique_count = len(set(vector))\n",
    "    end_time = time.time()\n",
    "    execution_time = end_time - start_time\n",
    "    return unique_count, execution_time\n",
    "\n",
    "# Введення значення n з клавіатури\n",
    "n = int(input(\"Введіть значення n: \"))\n",
    "\n",
    "result_iterative, time_iterative = task_18_iterative(n)\n",
    "print(\"Кількість унікальних чисел за допомогою ітеративних конструкцій:\", result_iterative)"
   ]
  },
  {
   "cell_type": "markdown",
   "id": "43004f2d-dc76-47fe-af7f-20a94a1be1a0",
   "metadata": {},
   "source": [
    "### 19) Згенерувати вектор із n елементів, які рівномірно розміщені на інтервалі (0, 1), тобто обидва кінці інтервалу не включені. Значення вивести до трьох знаків після коми."
   ]
  },
  {
   "cell_type": "code",
   "execution_count": 15,
   "id": "ff00328d-68fa-444a-a2a9-47b1f2613bbc",
   "metadata": {},
   "outputs": [
    {
     "name": "stdin",
     "output_type": "stream",
     "text": [
      "Введіть значення n:  5\n"
     ]
    },
    {
     "name": "stdout",
     "output_type": "stream",
     "text": [
      "Вектор за допомогою NumPy:\n",
      "[0.2 0.4 0.6 0.8]\n",
      "CPU times: total: 0 ns\n",
      "Wall time: 7.44 s\n"
     ]
    }
   ],
   "source": [
    "%%time\n",
    "\n",
    "import numpy as np\n",
    "import time\n",
    "\n",
    "def task_19_numpy(n):\n",
    "    start_time = time.time()\n",
    "    vector = np.linspace(0, 1, n, endpoint=False)[1:]\n",
    "    end_time = time.time()\n",
    "    execution_time = end_time - start_time\n",
    "    return np.around(vector, 3), execution_time\n",
    "\n",
    "# Введення значення n з клавіатури\n",
    "n = int(input(\"Введіть значення n: \"))\n",
    "\n",
    "result_numpy, time_numpy = task_19_numpy(n)\n",
    "print(\"Вектор за допомогою NumPy:\")\n",
    "print(result_numpy)"
   ]
  },
  {
   "cell_type": "code",
   "execution_count": 16,
   "id": "d30a9936-9852-4c57-b39a-c76496303db6",
   "metadata": {},
   "outputs": [
    {
     "name": "stdin",
     "output_type": "stream",
     "text": [
      "Введіть значення n:  5\n"
     ]
    },
    {
     "name": "stdout",
     "output_type": "stream",
     "text": [
      "Вектор за допомогою ітеративних конструкцій:\n",
      "[0.2, 0.4, 0.6, 0.8]\n",
      "CPU times: total: 0 ns\n",
      "Wall time: 1.18 s\n"
     ]
    }
   ],
   "source": [
    "%%time\n",
    "\n",
    "def task_19_iterative(n):\n",
    "    start_time = time.time()\n",
    "    interval_size = 1 / n\n",
    "    vector = [round(i * interval_size, 3) for i in range(1, n)]\n",
    "    end_time = time.time()\n",
    "    execution_time = end_time - start_time\n",
    "    return vector, execution_time\n",
    "\n",
    "# Введення значення n з клавіатури\n",
    "n = int(input(\"Введіть значення n: \"))\n",
    "\n",
    "result_iterative, time_iterative = task_19_iterative(n)\n",
    "print(\"Вектор за допомогою ітеративних конструкцій:\")\n",
    "print(result_iterative)"
   ]
  },
  {
   "cell_type": "markdown",
   "id": "e56799f9-1da6-4c0e-9415-009a58bdd988",
   "metadata": {},
   "source": [
    "## Завдання №2"
   ]
  },
  {
   "cell_type": "markdown",
   "id": "a55bdcac-79ff-4415-85be-09a31ddeb34a",
   "metadata": {},
   "source": [
    "### Розв'язати систему алгебраїчних рівнянь з використанням формул Крамера й виконати перевірку за допомогою:\n",
    "* Матричного множення\n",
    "* Матричного множення\n",
    "* Функції numpy.linalg.solve()\n",
    ">Порівняти всі рішення за допомогою функції numpy.allclose()"
   ]
  },
  {
   "cell_type": "code",
   "execution_count": 17,
   "id": "2e3587c7-94ab-4764-8170-fc8244206ec8",
   "metadata": {},
   "outputs": [
    {
     "name": "stdout",
     "output_type": "stream",
     "text": [
      "Крамер: [-2.0, 2.0, -3.0, 3.0]\n",
      "Матричне множення: [-2.  2. -3.  3.]\n",
      "numpy.linalg.solve(): [-2.  2. -3.  3.]\n",
      "\n",
      "Порівняння Крамера і матричного множення: True\n",
      "Порівняння Крамера і numpy.linalg.solve(): True\n"
     ]
    }
   ],
   "source": [
    "# Коефіцієнти системи\n",
    "coefficients = [\n",
    "    [1, 2, 3, 4],\n",
    "    [2, 1, 2, 3],\n",
    "    [3, 2, 1, 2],\n",
    "    [4, 3, 2, 1]\n",
    "];\n",
    "constants = [5, 1, 1, -5];\n",
    "\n",
    "# За допомогою формул Крамера\n",
    "def solve_system_cramer(coefficients, constants):\n",
    "    main_determinant = np.linalg.det(coefficients)\n",
    "\n",
    "    if main_determinant == 0:\n",
    "        raise ValueError(\"Розв'зок відсутній\")\n",
    "\n",
    "    solutions = []\n",
    "    for i in range(len(coefficients)):\n",
    "        modified_matrix = np.copy(coefficients)\n",
    "        modified_matrix[:, i] = constants\n",
    "        solutions.append(round((np.linalg.det(modified_matrix) / main_determinant), 3))\n",
    "\n",
    "    return solutions\n",
    "\n",
    "# Множення матриць\n",
    "def solve_system_matrix_multiplication(coefficients, constants):\n",
    "    inverse_matrix = np.linalg.inv(coefficients)\n",
    "    solutions = np.dot(inverse_matrix, constants)\n",
    "    return solutions\n",
    "\n",
    "# numpy.linalg.solve()\n",
    "def solve_system_numpy(coefficients, constants):\n",
    "    solutions = np.linalg.solve(coefficients, constants)\n",
    "    return solutions\n",
    "\n",
    "\n",
    "cramer_solutions = solve_system_cramer(coefficients, constants)\n",
    "matrix_multiplication_solutions = solve_system_matrix_multiplication(coefficients, constants)\n",
    "numpy_solutions = solve_system_numpy(coefficients, constants)\n",
    "\n",
    "# Порівняння розв'язків\n",
    "are_close_cramer_matrix = np.allclose(cramer_solutions, matrix_multiplication_solutions)\n",
    "are_close_cramer_numpy = np.allclose(cramer_solutions, numpy_solutions)\n",
    "\n",
    "# Вивід результатів\n",
    "print(\"Крамер:\", cramer_solutions)\n",
    "print(\"Матричне множення:\", matrix_multiplication_solutions)\n",
    "print(\"numpy.linalg.solve():\", numpy_solutions)\n",
    "\n",
    "# Вивід порівняння\n",
    "print(\"\\nПорівняння Крамера і матричного множення:\", are_close_cramer_matrix)\n",
    "print(\"Порівняння Крамера і numpy.linalg.solve():\", are_close_cramer_numpy)"
   ]
  },
  {
   "cell_type": "markdown",
   "id": "8a808abc-775e-4cea-aa4f-b49a12f66b2b",
   "metadata": {},
   "source": [
    "## Завдання №3\n",
    "### Обчислити значення матричного виразу:\n",
    "* З використанням універсальних функцій бібліотеки NumPy\n",
    "* За допомогою ітеративних конструкцій (з використанням циклів, спискових включень тощо)\n",
    "* Для обох випадків підрахувати час виконання скрипту та зробити висновки\n",
    "\n",
    ">Порівняти всі рішення за допомогою функції numpy.allclose()"
   ]
  },
  {
   "cell_type": "code",
   "execution_count": 23,
   "id": "841e6a9c-b4cc-403b-99fe-3fe267aa77df",
   "metadata": {},
   "outputs": [
    {
     "name": "stdout",
     "output_type": "stream",
     "text": [
      "Result using NumPy:\n",
      " [[  162   -30   600]\n",
      " [-2678   -30     2]\n",
      " [  -98    -6    10]]\n",
      "Результат за допомогою ітеративних конструкцій:\n",
      "[[  162   -30   600]\n",
      " [-2678   -30     2]\n",
      " [  -98    -6    10]]\n",
      "Порівняння результатів: True\n",
      "Час виконання з використанням універсальних функцій NumPy: 0.0030281543731689453 сек\n",
      "Час виконання за допомогою ітеративних конструкцій: 0.0 сек\n"
     ]
    }
   ],
   "source": [
    "import numpy as np\n",
    "import time\n",
    "\n",
    "# Функція для розрахунку виразу з використанням універсальних функцій NumPy\n",
    "def calculate_expression_numpy(A, B):\n",
    "    A = np.array(A)\n",
    "    B = np.array(B)\n",
    "    return 2 * np.multiply(np.subtract(A, B), np.add(np.square(A), B))\n",
    "\n",
    "result_numpy = calculate_expression_numpy(A, B)\n",
    "print(\"Result using NumPy:\\n\", result_numpy)\n",
    "\n",
    "# Функція для розрахунку виразу за допомогою ітеративних конструкцій\n",
    "def calculate_expression_iterative(A, B):\n",
    "    start_time = time.time()\n",
    "    result = np.zeros_like(A)\n",
    "    for i in range(A.shape[0]):\n",
    "        for j in range(A.shape[1]):\n",
    "            result[i][j] = 2 * (A[i][j] - B[i][j]) * (A[i][j]**2 + B[i][j])\n",
    "    end_time = time.time()\n",
    "    execution_time = end_time - start_time\n",
    "    return result, execution_time\n",
    "\n",
    "# Матриці A і B\n",
    "A = np.array([[5, 1, 7], [-10, -2, 1], [0, 1, 2]])\n",
    "B = np.array([[2, 4, 1], [3, 1, 0], [7, 2, 1]])\n",
    "\n",
    "# Розв'язок за допомогою ітеративних конструкцій\n",
    "result_iterative, time_iterative = calculate_expression_iterative(A, B)\n",
    "print(\"Результат за допомогою ітеративних конструкцій:\")\n",
    "print(result_iterative)\n",
    "\n",
    "# Порівняння результатів за допомогою numpy.allclose()\n",
    "print(\"Порівняння результатів:\", np.allclose(result_numpy, result_iterative))\n",
    "\n",
    "# Вивід часу виконання для обох підходів\n",
    "print(\"Час виконання з використанням універсальних функцій NumPy:\", time_numpy, \"сек\")\n",
    "print(\"Час виконання за допомогою ітеративних конструкцій:\", time_iterative, \"сек\")"
   ]
  },
  {
   "cell_type": "code",
   "execution_count": null,
   "id": "8778ca25-2d3b-4bf1-a7df-ed51b2411d21",
   "metadata": {},
   "outputs": [],
   "source": []
  }
 ],
 "metadata": {
  "kernelspec": {
   "display_name": "Python 3 (ipykernel)",
   "language": "python",
   "name": "python3"
  },
  "language_info": {
   "codemirror_mode": {
    "name": "ipython",
    "version": 3
   },
   "file_extension": ".py",
   "mimetype": "text/x-python",
   "name": "python",
   "nbconvert_exporter": "python",
   "pygments_lexer": "ipython3",
   "version": "3.11.7"
  }
 },
 "nbformat": 4,
 "nbformat_minor": 5
}
