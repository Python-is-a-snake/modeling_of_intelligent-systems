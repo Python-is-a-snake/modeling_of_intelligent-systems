{
 "cells": [
  {
   "cell_type": "markdown",
   "id": "4f0229ed",
   "metadata": {},
   "source": [
    "# Гайана\n",
    "\n",
    "## Огляд\n",
    "\n",
    "Гайана - країна, що розташована на північному узбережжі Південної Америки. Відома своєю щедрою природою та багатою культурною спадщиною.\n",
    "\n",
    "### Основна інформація\n",
    "\n",
    "- **Площа:** 214,970 км²\n",
    "- **Населення:** близько 794,000 людей\n",
    "- **Державний устрій:** Унітарна парламентська республіка\n",
    "\n",
    "**Видатні персоналії:**\n",
    "\n",
    "- <span style=\"color: green;\">Чедді Джаган</span> - Засновник Народного Прогресивного Партії.\n",
    "- <span style=\"color: blue;\">Шивнарін Чандерпол</span> - Відомий крикетист.\n",
    "\n",
    "### Таблиця найбільших міст\n",
    "\n",
    "| Місто       | Населення |\n",
    "|-------------|-----------|\n",
    "| Георгтаун   | 200,000   |\n",
    "| Лінден      | 29,298    |\n",
    "| Нью-Амстердам | 17,329  |"
   ]
  },
  {
   "cell_type": "markdown",
   "id": "11f2f10d",
   "metadata": {},
   "source": [
    "<svg width=\"300\" height=\"200\" xmlns=\"http://www.w3.org/2000/svg\">\n",
    "  <rect width=\"300\" height=\"200\" fill=\"#009739\" />\n",
    "  <polygon points=\"0,0 300,100 0,200\" fill=\"white\" />\n",
    "  <polygon points=\"0,0 300,100 0,200\" fill=\"yellow\" transform=\"scale(0.9) translate(20,20)\" />\n",
    "  <polygon points=\"0,0 120,100 0,200\" fill=\"red\" />\n",
    "  <polygon points=\"0,0 120,100 0,200\" fill=\"black\" transform=\"scale(0.8) translate(15,20)\" />\n",
    "</svg>"
   ]
  },
  {
   "cell_type": "code",
   "execution_count": 1,
   "id": "f129c798",
   "metadata": {},
   "outputs": [
    {
     "data": {
      "text/html": [
       "<div style=\"font-family: Arial, sans-serif;\">\n",
       "    <h1 style=\"color: navy;\">Видатні пам'ятки</h1>\n",
       "\n",
       "    <div style=\"border: 2px solid gray; padding: 10px; margin-bottom: 20px;\">\n",
       "        <h2 style=\"color: darkgreen;\">1. Кайетурскій водоспад</h2>\n",
       "        <ul>\n",
       "            <li><strong>Висота:</strong> 226 метрів</li>\n",
       "            <li><strong>Одне з найбільших природних чудес у світі.</strong></li>\n",
       "        </ul>\n",
       "    </div>\n",
       "\n",
       "    <div style=\"border: 2px solid gray; padding: 10px;\">\n",
       "        <h2 style=\"color: darkred;\">2. Історичні будівлі Георгтауна</h2>\n",
       "        <ul>\n",
       "            <li>\n",
       "                <a href=\"https://uk.wikipedia.org/wiki/Собор_Святого_Георгія_(Джорджтаун)\" \n",
       "                target=\"_blank\">Собор Святого Георгія</a>\n",
       "            </li>\n",
       "            <li href=\"https://en.wikipedia.org/wiki/Parliament_Building,_Guyana\">Будівля парламенту</li>\n",
       "        </ul>\n",
       "    </div>\n",
       "\n",
       "    <h1 style=\"color: navy; margin-top: 30px;\">Галерея зображень</h1>\n",
       "    <div style=\"margin-bottom: 20px;\">\n",
       "        <img src=\"https://upload.wikimedia.org/wikipedia/commons/thumb/e/e2/GuyanaKaieteurFalls2004.jpg/1024px-GuyanaKaieteurFalls2004.jpg\" alt=\"Кайетурскій водоспад\" style=\"width: 100%; max-width: 400px; display: block; margin: auto;\">\n",
       "        <p style=\"text-align: center;\">Кайетурскій водоспад</p>\n",
       "    </div>\n",
       "\n",
       "    <div>\n",
       "        <img src=\"https://www.truechristianity.info/img/churches/guyana/georgetown_cathedral_2.jpg\" alt=\"Сен-Джорджс Англіканський собор\" style=\"width: 100%; max-width: 400px; display: block; margin: auto;\">\n",
       "        <p style=\"text-align: center;\">Собор Святого Георгія</p>\n",
       "    </div>\n",
       "</div>\n"
      ],
      "text/plain": [
       "<IPython.core.display.HTML object>"
      ]
     },
     "metadata": {},
     "output_type": "display_data"
    }
   ],
   "source": [
    "%%HTML\n",
    "<div style=\"font-family: Arial, sans-serif;\">\n",
    "    <h1 style=\"color: navy;\">Видатні пам'ятки</h1>\n",
    "\n",
    "    <div style=\"border: 2px solid gray; padding: 10px; margin-bottom: 20px;\">\n",
    "        <h2 style=\"color: darkgreen;\">1. Кайетурскій водоспад</h2>\n",
    "        <ul>\n",
    "            <li><strong>Висота:</strong> 226 метрів</li>\n",
    "            <li><strong>Одне з найбільших природних чудес у світі.</strong></li>\n",
    "        </ul>\n",
    "    </div>\n",
    "\n",
    "    <div style=\"border: 2px solid gray; padding: 10px;\">\n",
    "        <h2 style=\"color: darkred;\">2. Історичні будівлі Георгтауна</h2>\n",
    "        <ul>\n",
    "            <li>\n",
    "                <a href=\"https://uk.wikipedia.org/wiki/Собор_Святого_Георгія_(Джорджтаун)\" \n",
    "                target=\"_blank\">Собор Святого Георгія</a>\n",
    "            </li>\n",
    "            <li href=\"https://en.wikipedia.org/wiki/Parliament_Building,_Guyana\">Будівля парламенту</li>\n",
    "        </ul>\n",
    "    </div>\n",
    "\n",
    "    <h1 style=\"color: navy; margin-top: 30px;\">Галерея зображень</h1>\n",
    "    <div style=\"margin-bottom: 20px;\">\n",
    "        <img src=\"https://upload.wikimedia.org/wikipedia/commons/thumb/e/e2/GuyanaKaieteurFalls2004.jpg/1024px-GuyanaKaieteurFalls2004.jpg\" alt=\"Кайетурскій водоспад\" style=\"width: 100%; max-width: 400px; display: block; margin: auto;\">\n",
    "        <p style=\"text-align: center;\">Кайетурскій водоспад</p>\n",
    "    </div>\n",
    "\n",
    "    <div>\n",
    "        <img src=\"https://www.truechristianity.info/img/churches/guyana/georgetown_cathedral_2.jpg\" alt=\"Сен-Джорджс Англіканський собор\" style=\"width: 100%; max-width: 400px; display: block; margin: auto;\">\n",
    "        <p style=\"text-align: center;\">Собор Святого Георгія</p>\n",
    "    </div>\n",
    "</div>"
   ]
  },
  {
   "cell_type": "code",
   "execution_count": 2,
   "id": "c0670102",
   "metadata": {},
   "outputs": [
    {
     "data": {
      "text/html": [
       "<svg xmlns=\"http://www.w3.org/2000/svg\" width=\"300\" height=\"300\" viewBox=\"0 0 100 60\">\n",
       "<title>Flag of Guyana</title>\n",
       "    <defs>\n",
       "        <clipPath id=\"w\">\n",
       "            <path d=\"m0 0 100 30L0 60z\"/>\n",
       "        </clipPath>\n",
       "        <clipPath id=\"b\">\n",
       "            <path d=\"m0 0 50 30L0 60z\"/>\n",
       "        </clipPath>\n",
       "    </defs>\n",
       "    <path fill=\"#2A936A\" d=\"m0 0h100v60H0z\"/>\n",
       "    <path clip-path=\"url(#w)\" fill=\"#FFC20E\" stroke=\"#fff\" stroke-width=\"4\" d=\"m0 0 100 30L0 60\"/>\n",
       "    <path clip-path=\"url(#b)\" fill=\"#BE1E2D\" stroke=\"#000\" stroke-width=\"4\" d=\"m0 0 50 30L0 60\"/>\n",
       "</svg>\n"
      ],
      "text/plain": [
       "<IPython.core.display.HTML object>"
      ]
     },
     "metadata": {},
     "output_type": "display_data"
    }
   ],
   "source": [
    "%%HTML\n",
    "<svg xmlns=\"http://www.w3.org/2000/svg\" width=\"300\" height=\"300\" viewBox=\"0 0 100 60\">\n",
    "<title>Flag of Guyana</title>\n",
    "    <defs>\n",
    "        <clipPath id=\"w\">\n",
    "            <path d=\"m0 0 100 30L0 60z\"/>\n",
    "        </clipPath>\n",
    "        <clipPath id=\"b\">\n",
    "            <path d=\"m0 0 50 30L0 60z\"/>\n",
    "        </clipPath>\n",
    "    </defs>\n",
    "    <path fill=\"#2A936A\" d=\"m0 0h100v60H0z\"/>\n",
    "    <path clip-path=\"url(#w)\" fill=\"#FFC20E\" stroke=\"#fff\" stroke-width=\"4\" d=\"m0 0 100 30L0 60\"/>\n",
    "    <path clip-path=\"url(#b)\" fill=\"#BE1E2D\" stroke=\"#000\" stroke-width=\"4\" d=\"m0 0 50 30L0 60\"/>\n",
    "</svg>"
   ]
  },
  {
   "cell_type": "markdown",
   "id": "b2f56b8d",
   "metadata": {},
   "source": [
    "# Історія\n",
    "Перші люди проникли на територію Гаяни з Центральної Америки близько 35000 років тому. \n",
    "Це були нащадки вихідців з Азії, що розселялися по американському континенту з півночі на південь. \n",
    "Хоча на інших територіях Північної і Південної Америки незабаром виникли потужні цивілізації, \n",
    "індіанське населення в Гаяні залишалося відносно примітивним. \n",
    "До моменту відкриття Америки Христофором Колумбом на території Гаяни населення ділилося на дві великі групи: \n",
    "араваки, які жили на узбережжі, і кариби, що займали внутрішні простори. \n",
    "\n",
    ">У спадок від корінних жителів дісталося саме слово «Гаяна», яким позначали регіон, \n",
    "що включав існуючі тепер Гаяну, Суринам і Французьку Гвіану. \n",
    "\n",
    "Значення цього слова — «земля води» — вказує на численні водні потоки, що перетинають територію країни.\n",
    "\n",
    "## Тварини Гайани\n",
    "\n",
    "Гайана - країна в Південній Америці, розташована на півночі континенту. \n",
    "Її різноманітна природа і екосистеми роблять її ідеальним місцем для спостереження за дикою тваринною фауною. \n",
    "\n",
    "### Ягуар\n",
    "\n",
    "Ягуар (Panthera onca) - найбільший хижак в Південній Америці і третій за розміром у світі. \n",
    "Ці величезні кішки мають потужні м'язи та гострі кігті, які допомагають їм полювати на різних тварин,\n",
    "включаючи капібар та оленів. \n",
    "Ягуари також відомі своїм вмінням добре плавати, і вони часто полюють на рибу в річках та озерах.\n",
    "\n",
    "### Червоний папуг Ара\n",
    "\n",
    "Червоний папуг Ара (Ara macao) - це вид великих папуг, який має яскраве червоне та синє забарвлення. \n",
    "Вони мешкають у великих колоніях у тропічних лісах Гайани. \n",
    "Ці птахи відомі своїми голосними криками та складними соціальними структурами.\n"
   ]
  },
  {
   "cell_type": "code",
   "execution_count": 6,
   "id": "3bb923d4",
   "metadata": {},
   "outputs": [
    {
     "name": "stdout",
     "output_type": "stream",
     "text": [
      "Введіть список цілих чисел, розділених пробілами: st\n",
      "Некоректний ввід. Спробуйте ще раз.\n",
      "Введіть список цілих чисел, розділених пробілами: 1 2 3\n",
      "Результат: 2\n"
     ]
    }
   ],
   "source": [
    "def task_3():\n",
    "    # Функція для перевірки коректності введених даних\n",
    "    def is_valid_input(input_str):\n",
    "        try:\n",
    "            # Перетворення рядка у список цілих чисел\n",
    "            num_list = [int(num) for num in input_str.split()]\n",
    "            return True, num_list\n",
    "        except ValueError:\n",
    "            return False, []\n",
    "\n",
    "    # Введення списку чисел і перевірка коректності введених даних\n",
    "    while True:\n",
    "        input_str = input(\"Введіть список цілих чисел, розділених пробілами: \")\n",
    "        is_valid, num_list = is_valid_input(input_str)\n",
    "        if is_valid:\n",
    "            break\n",
    "        else:\n",
    "            print(\"Некоректний ввід. Спробуйте ще раз.\")\n",
    "\n",
    "    # Сортування списку чисел\n",
    "    sorted_list = sorted(num_list)\n",
    "    \n",
    "    # Знаходження середнього елемента для списку непарної та парної довжини відповідно\n",
    "    middle_index = len(sorted_list) // 2\n",
    "    if len(sorted_list) % 2 == 0:\n",
    "        middle_elements = (sorted_list[middle_index - 1], sorted_list[middle_index])\n",
    "    else:\n",
    "        middle_elements = sorted_list[middle_index]\n",
    "\n",
    "    return middle_elements\n",
    "\n",
    "# Виклик функції для виконання завдання\n",
    "result = task_3()\n",
    "print(\"Результат:\", result)"
   ]
  },
  {
   "cell_type": "code",
   "execution_count": 7,
   "id": "e5a7c8c8",
   "metadata": {},
   "outputs": [
    {
     "name": "stdout",
     "output_type": "stream",
     "text": [
      "Введіть список цілих чисел, розділених пробілами: 1 2 3 4 5 6\n"
     ]
    },
    {
     "data": {
      "text/plain": [
       "(3, 4)"
      ]
     },
     "execution_count": 7,
     "metadata": {},
     "output_type": "execute_result"
    }
   ],
   "source": [
    "task_3()"
   ]
  },
  {
   "cell_type": "code",
   "execution_count": null,
   "id": "203e1fbd",
   "metadata": {},
   "outputs": [],
   "source": []
  },
  {
   "cell_type": "code",
   "execution_count": null,
   "id": "d9b4209f",
   "metadata": {},
   "outputs": [],
   "source": []
  }
 ],
 "metadata": {
  "language_info": {
   "codemirror_mode": {
    "name": "ipython",
    "version": 3
   },
   "file_extension": ".py",
   "mimetype": "text/x-python",
   "name": "python",
   "nbconvert_exporter": "python",
   "pygments_lexer": "ipython3",
   "version": "3.7.1"
  }
 },
 "nbformat": 4,
 "nbformat_minor": 5
}
